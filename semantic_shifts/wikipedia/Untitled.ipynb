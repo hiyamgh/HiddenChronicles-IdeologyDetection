{
 "cells": [
  {
   "cell_type": "code",
   "execution_count": 3,
   "id": "e3532448",
   "metadata": {},
   "outputs": [],
   "source": [
    "import requests\n",
    "import wptools\n",
    "import wikipedia\n",
    "# conda install -c conda-forge wikipedia"
   ]
  },
  {
   "cell_type": "code",
   "execution_count": 4,
   "id": "56b2d6e1",
   "metadata": {},
   "outputs": [],
   "source": [
    "res = wikipedia.search(\"State of Israel\", results=10, suggestion=False)"
   ]
  },
  {
   "cell_type": "code",
   "execution_count": 5,
   "id": "1f5f01d4",
   "metadata": {},
   "outputs": [
    {
     "data": {
      "text/plain": [
       "['Israel',\n",
       " 'International recognition of Israel',\n",
       " 'History of Israel',\n",
       " 'Israeli Declaration of Independence',\n",
       " 'President of Israel',\n",
       " 'Legitimacy of the State of Israel',\n",
       " 'List of presidents of Israel',\n",
       " 'Israeli Jews',\n",
       " 'Demographics of Israel',\n",
       " 'Foreign relations of Israel']"
      ]
     },
     "execution_count": 5,
     "metadata": {},
     "output_type": "execute_result"
    }
   ],
   "source": [
    "res"
   ]
  },
  {
   "cell_type": "code",
   "execution_count": null,
   "id": "49c44006",
   "metadata": {},
   "outputs": [],
   "source": [
    "'https://en.wikipedia.org/wiki/1948_Palestinian_exodus'\n"
   ]
  }
 ],
 "metadata": {
  "kernelspec": {
   "display_name": "Python 3",
   "language": "python",
   "name": "python3"
  },
  "language_info": {
   "codemirror_mode": {
    "name": "ipython",
    "version": 3
   },
   "file_extension": ".py",
   "mimetype": "text/x-python",
   "name": "python",
   "nbconvert_exporter": "python",
   "pygments_lexer": "ipython3",
   "version": "3.8.8"
  }
 },
 "nbformat": 4,
 "nbformat_minor": 5
}
