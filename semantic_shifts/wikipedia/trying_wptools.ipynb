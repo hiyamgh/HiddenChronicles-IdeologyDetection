{
 "cells": [
  {
   "cell_type": "code",
   "execution_count": 213,
   "id": "fcbaf280",
   "metadata": {},
   "outputs": [],
   "source": [
    "import requests\n",
    "import wptools\n",
    "import re"
   ]
  },
  {
   "cell_type": "code",
   "execution_count": 214,
   "id": "0538e379",
   "metadata": {},
   "outputs": [
    {
     "name": "stderr",
     "output_type": "stream",
     "text": [
      "en.wikipedia.org (parse) Narcotic\n",
      "Narcotic (en) data\n",
      "{\n",
      "  iwlinks: <list(1)> https://en.wiktionary.org/wiki/Special:Search...\n",
      "  pageid: 38079\n",
      "  parsetree: <str(22309)> <root><template><title>short description...\n",
      "  requests: <list(1)> parse\n",
      "  title: Narcotic\n",
      "  wikibase: Q940\n",
      "  wikidata_url: https://www.wikidata.org/wiki/Q940\n",
      "  wikitext: <str(18557)> {{short description|Chemical substance wi...\n",
      "}\n"
     ]
    },
    {
     "data": {
      "text/plain": [
       "<wptools.page.WPToolsPage at 0x19e37d4b490>"
      ]
     },
     "execution_count": 214,
     "metadata": {},
     "output_type": "execute_result"
    }
   ],
   "source": [
    "page2 = wptools.page('Narcotic')\n",
    "page2.get_parse()"
   ]
  },
  {
   "cell_type": "code",
   "execution_count": 215,
   "id": "3e162fcf",
   "metadata": {},
   "outputs": [
    {
     "data": {
      "text/plain": [
       "True"
      ]
     },
     "execution_count": 215,
     "metadata": {},
     "output_type": "execute_result"
    }
   ],
   "source": [
    "'infobox' in page2.data"
   ]
  },
  {
   "cell_type": "code",
   "execution_count": 216,
   "id": "1f284bc4",
   "metadata": {},
   "outputs": [
    {
     "data": {
      "text/plain": [
       "True"
      ]
     },
     "execution_count": 216,
     "metadata": {},
     "output_type": "execute_result"
    }
   ],
   "source": [
    "page2.data['infobox'] is None"
   ]
  },
  {
   "cell_type": "code",
   "execution_count": 233,
   "id": "d37a97f5",
   "metadata": {},
   "outputs": [
    {
     "name": "stderr",
     "output_type": "stream",
     "text": [
      "en.wikipedia.org (parse) Palestine_Liberation_Organization\n",
      "Palestine Liberation Organization (en) data\n",
      "{\n",
      "  infobox: <dict(13)> name, logo, abbreviation, leader1_title, lea...\n",
      "  iwlinks: <list(2)> https://ar.wikipedia.org/wiki/%D9%85%D9%86%D8...\n",
      "  pageid: 24324\n",
      "  parsetree: <str(88988)> <root><template><title>short description...\n",
      "  requests: <list(1)> parse\n",
      "  title: Palestine Liberation Organization\n",
      "  wikibase: Q26683\n",
      "  wikidata_url: https://www.wikidata.org/wiki/Q26683\n",
      "  wikitext: <str(73146)> {{short description|Palestinian militant ...\n",
      "}\n"
     ]
    },
    {
     "data": {
      "text/plain": [
       "{'name': 'Palestine Liberation Organization',\n",
       " 'logo': '[[File:Plo emblem.png]]',\n",
       " 'abbreviation': 'PLO',\n",
       " 'leader1_title': '[[Chairman of the Palestine Liberation Organization|Chairman]]',\n",
       " 'leader1_name': '[[Mahmoud Abbas]]',\n",
       " 'founded': '28 May 1964',\n",
       " 'ideology': '[[Palestinian nationalism]]',\n",
       " 'anthem': \"[[Fida'i]]\",\n",
       " 'seats1_title': '[[Palestinian Legislative Council]]',\n",
       " 'country': 'Palestine',\n",
       " 'country_dab1': 'Politics of the Palestinian National Authority',\n",
       " 'parties_dab1': 'List of political parties in the State of Palestine',\n",
       " 'elections_dab1': 'Elections in Palestine'}"
      ]
     },
     "execution_count": 233,
     "metadata": {},
     "output_type": "execute_result"
    }
   ],
   "source": [
    "page4 = wptools.page('Palestine_Liberation_Organization')\n",
    "page4.get_parse()\n",
    "page4.data['infobox'] "
   ]
  },
  {
   "cell_type": "code",
   "execution_count": 274,
   "id": "44235cf0",
   "metadata": {},
   "outputs": [
    {
     "data": {
      "text/plain": [
       "['leader1_title', 'leader1_name', 'leader2_title', 'leader2_name']"
      ]
     },
     "execution_count": 274,
     "metadata": {},
     "output_type": "execute_result"
    }
   ],
   "source": [
    "leaders_types = [k for k in page4.data['infobox'].keys() if 'leader' in k]\n",
    "leaders_types"
   ]
  },
  {
   "cell_type": "code",
   "execution_count": 234,
   "id": "ea20f395",
   "metadata": {},
   "outputs": [
    {
     "name": "stderr",
     "output_type": "stream",
     "text": [
      "en.wikipedia.org (parse) Kataeb_Party\n",
      "Kataeb Party (en) data\n",
      "{\n",
      "  infobox: <dict(29)> name, native_name, colorcode, logo, logo_siz...\n",
      "  pageid: 306966\n",
      "  parsetree: <str(56737)> <root><template><title>Short description...\n",
      "  requests: <list(1)> parse\n",
      "  title: Kataeb Party\n",
      "  wikibase: Q502276\n",
      "  wikidata_url: https://www.wikidata.org/wiki/Q502276\n",
      "  wikitext: <str(45454)> {{Short description|Lebanese Christian de...\n",
      "}\n"
     ]
    },
    {
     "data": {
      "text/plain": [
       "{'name': 'Lebanese Kataeb Party',\n",
       " 'native_name': 'حزب الكتائب اللبنانية',\n",
       " 'colorcode': '{{Kataeb Party/meta/color}}',\n",
       " 'logo': 'Kataeb Party logo.svg',\n",
       " 'logo_size': '200px',\n",
       " 'leader1_title': 'President',\n",
       " 'leader1_name': '[[Samy Gemayel]]',\n",
       " 'leader2_title': 'Founder',\n",
       " 'leader2_name': '[[Pierre Gemayel]]',\n",
       " 'foundation': '{{Start date|1936|11|19|df|=|y}}',\n",
       " 'headquarters': '[[Saifi Village|Saifi, Beirut]]',\n",
       " 'ideology': '{{nowrap|[[Lebanese nationalism]]|ref| name=\"Newsweek\"|{{cite news|last=Daoud|first=David|date=12 January 2017|url=https://www.newsweek.com/hezbollahs-latest-conquest-lebanons-cabinet-541487|title=Hezbollah\\'s Latest Conquest: Lebanon\\'s Cabinet|work=[[Newsweek]]}}|</ref>|<br>[[Christian democracy]]<br>[[Social conservatism]]<br>[[Maronite politics]]<br>\\'\\'\\'Historical:\\'\\'\\'<br>[[Falangism]]<br>[[Anti-communism]]}} <br>[[Christian democracy]]<br>[[Social conservatism]]<br>[[Maronite politics]]<br>\\'\\'\\'Historical:\\'\\'\\'<br>[[Falangism]]<br>[[Anti-communism]]',\n",
       " 'international': '[[Christian Democrat International|CDI]]<br>[[International Democrat Union|IDU]]',\n",
       " 'position': \"'''Current:'''<br>[[Centre-right]] <br>'''Historical:'''<br>[[Right-wing politics|Right-wing]] to [[Far-right politics|far-right]]\",\n",
       " 'religion': '[[Christianity in Lebanon|Christianity]]',\n",
       " 'slogan': '\"God. Homeland. Family.\"',\n",
       " 'colours': '{{Color box|#228B22|Border|=|Forestgreen}} [[Green]]<br> {{color box|#FFFFFF|Border|=|darkgray}} [[White]]<br> {{Color box|#7B3F00|Border|=|brown}} [[Brown]]  (customary)',\n",
       " 'native_name_lang': 'ar',\n",
       " 'national': '[[Tripartite Alliance (Lebanon)|Helf Alliance]] (1968-1969)<br>[[Lebanese Front]] (1976-1986)<br>[[March 14 Alliance]]',\n",
       " 'blank1_title': 'Military wing',\n",
       " 'blank1': '[[Kataeb Regulatory Forces]] (1961–1980)<br>[[Lebanese Forces (militia)|Lebanese Forces]] (1980–1985)',\n",
       " 'seats1_title': '[[Parliament of Lebanon]]',\n",
       " 'seats1': '{{Composition bar|0|128|hex|=|Kataeb Party/meta/color}} {{Kataeb Party/meta/color}}',\n",
       " 'seats2_title': '[[Council of Ministers of Lebanon|Cabinet of Lebanon]]',\n",
       " 'seats2': '{{Composition bar|0|20|hex|=|Kataeb Party/meta/color}} {{Kataeb Party/meta/color}}',\n",
       " 'flag': '[[File:Flag of Kataeb Party.svg|150px|border]]',\n",
       " 'website': '{{Official URL}}',\n",
       " 'country': 'Lebanon',\n",
       " 'abbreviation': 'Kataeb'}"
      ]
     },
     "execution_count": 234,
     "metadata": {},
     "output_type": "execute_result"
    }
   ],
   "source": [
    "page4 = wptools.page('Kataeb_Party')\n",
    "page4.get_parse()\n",
    "page4.data['infobox'] "
   ]
  },
  {
   "cell_type": "code",
   "execution_count": 236,
   "id": "83516d91",
   "metadata": {},
   "outputs": [
    {
     "name": "stderr",
     "output_type": "stream",
     "text": [
      "en.wikipedia.org (parse) Amal_Movement\n",
      "Amal Movement (en) data\n",
      "{\n",
      "  infobox: <dict(23)> name, native_name, logo, leader1_title, lead...\n",
      "  iwlinks: <list(1)> https://commons.wikimedia.org/wiki/Category:A...\n",
      "  pageid: 1517643\n",
      "  parsetree: <str(29122)> <root><template><title>Short description...\n",
      "  requests: <list(1)> parse\n",
      "  title: Amal Movement\n",
      "  wikibase: Q452670\n",
      "  wikidata_url: https://www.wikidata.org/wiki/Q452670\n",
      "  wikitext: <str(21672)> {{Short description|Lebanese Shia politic...\n",
      "}\n"
     ]
    },
    {
     "data": {
      "text/plain": [
       "{'name': 'Amal Movement',\n",
       " 'native_name': 'حركة أمل',\n",
       " 'logo': '[[File:Amal logo.svg|150px]]',\n",
       " 'leader1_title': 'Chairman',\n",
       " 'leader1_name': '[[Nabih Berri]]',\n",
       " 'leader2_title': 'Founders',\n",
       " 'leader2_name': '[[Musa al-Sadr]]<br /> [[Hussein el-Husseini]]',\n",
       " 'colorcode': '{{Amal Movement/meta/color}}',\n",
       " 'foundation': '6 July 1974',\n",
       " 'headquarters': '[[Beirut]]',\n",
       " 'country': 'Lebanon',\n",
       " 'abbreviation': 'Amal, أمل',\n",
       " 'ideology': '[[Conservatism]]<br>[[Populism]]',\n",
       " 'position': '[[Centre-right politics|Centre-right]]',\n",
       " 'religion': '[[Lebanese Shia Muslims|Shia Islam]]',\n",
       " 'national': '[[March 8 Alliance]]',\n",
       " 'seats1_title': '[[Parliament of Lebanon]]',\n",
       " 'seats1': '{{Composition bar|10|128|hex|=|Amal Movement/meta/color}} {{Amal Movement/meta/color}}',\n",
       " 'seats2_title': '[[Council of Ministers of Lebanon|Cabinet of Lebanon]]',\n",
       " 'seats2': '{{Composition bar|2|20|hex|=|Amal Movement/meta/color}} {{Amal Movement/meta/color}}',\n",
       " 'colours': '{{Color box|Amal Movement/meta/color|border|=|darkgray}} {{Amal Movement/meta/color}} {{Color box|#EF1C27|border|=|darkgray}} [[Green]], [[Red]]',\n",
       " 'native_name_lang': 'ar',\n",
       " 'flag': '[[File:Flag of the Amal Movement.svg|150px]]'}"
      ]
     },
     "execution_count": 236,
     "metadata": {},
     "output_type": "execute_result"
    }
   ],
   "source": [
    "# https://en.wikipedia.org/wiki/Amal_Movement\n",
    "page5 = wptools.page('Amal_Movement')\n",
    "page5.get_parse()\n",
    "page5.data['infobox'] "
   ]
  },
  {
   "cell_type": "code",
   "execution_count": 244,
   "id": "cee8dc9a",
   "metadata": {},
   "outputs": [
    {
     "name": "stdout",
     "output_type": "stream",
     "text": [
      "['Chairman']\n",
      "-----------------\n",
      "['Nabih Berri']\n",
      "-----------------\n",
      "['Founders']\n",
      "-----------------\n",
      "['Musa al-Sadr', 'Hussein el-Husseini']\n",
      "-----------------\n",
      "['Beirut']\n",
      "-----------------\n",
      "['Conservatism', 'Populism']\n",
      "-----------------\n",
      "['Centre-right']\n",
      "-----------------\n",
      "['Shia Islam']\n",
      "-----------------\n",
      "['March 8 Alliance']\n",
      "-----------------\n"
     ]
    },
    {
     "ename": "KeyError",
     "evalue": "'international'",
     "output_type": "error",
     "traceback": [
      "\u001b[1;31m---------------------------------------------------------------------------\u001b[0m",
      "\u001b[1;31mKeyError\u001b[0m                                  Traceback (most recent call last)",
      "\u001b[1;32m<ipython-input-244-4123499256c6>\u001b[0m in \u001b[0;36m<module>\u001b[1;34m\u001b[0m\n\u001b[0;32m     17\u001b[0m \u001b[0mprint\u001b[0m\u001b[1;33m(\u001b[0m\u001b[0mget_list_items\u001b[0m\u001b[1;33m(\u001b[0m\u001b[0mpage5\u001b[0m\u001b[1;33m.\u001b[0m\u001b[0mdata\u001b[0m\u001b[1;33m[\u001b[0m\u001b[1;34m'infobox'\u001b[0m\u001b[1;33m]\u001b[0m\u001b[1;33m[\u001b[0m\u001b[1;34m'national'\u001b[0m\u001b[1;33m]\u001b[0m\u001b[1;33m)\u001b[0m\u001b[1;33m)\u001b[0m\u001b[1;33m\u001b[0m\u001b[1;33m\u001b[0m\u001b[0m\n\u001b[0;32m     18\u001b[0m \u001b[0mprint\u001b[0m\u001b[1;33m(\u001b[0m\u001b[1;34m'-----------------'\u001b[0m\u001b[1;33m)\u001b[0m\u001b[1;33m\u001b[0m\u001b[1;33m\u001b[0m\u001b[0m\n\u001b[1;32m---> 19\u001b[1;33m \u001b[0mprint\u001b[0m\u001b[1;33m(\u001b[0m\u001b[0mget_list_items\u001b[0m\u001b[1;33m(\u001b[0m\u001b[0mpage5\u001b[0m\u001b[1;33m.\u001b[0m\u001b[0mdata\u001b[0m\u001b[1;33m[\u001b[0m\u001b[1;34m'infobox'\u001b[0m\u001b[1;33m]\u001b[0m\u001b[1;33m[\u001b[0m\u001b[1;34m'international'\u001b[0m\u001b[1;33m]\u001b[0m\u001b[1;33m)\u001b[0m\u001b[1;33m)\u001b[0m\u001b[1;33m\u001b[0m\u001b[1;33m\u001b[0m\u001b[0m\n\u001b[0m",
      "\u001b[1;31mKeyError\u001b[0m: 'international'"
     ]
    }
   ],
   "source": [
    "print(get_list_items(page5.data['infobox']['leader1_title']))\n",
    "print('-----------------')\n",
    "print(get_list_items(page5.data['infobox']['leader1_name']))\n",
    "print('-----------------')\n",
    "print(get_list_items(page5.data['infobox']['leader2_title']))\n",
    "print('-----------------')\n",
    "print(get_list_items(page5.data['infobox']['leader2_name']))\n",
    "print('-----------------')\n",
    "print(get_list_items(page5.data['infobox']['headquarters']))\n",
    "print('-----------------')\n",
    "print(get_list_items(page5.data['infobox']['ideology']))\n",
    "print('-----------------')\n",
    "print(get_list_items(page5.data['infobox']['position']))\n",
    "print('-----------------')\n",
    "print(get_list_items(page5.data['infobox']['religion']))\n",
    "print('-----------------')\n",
    "print(get_list_items(page5.data['infobox']['national']))\n",
    "print('-----------------')\n",
    "print(get_list_items(page5.data['infobox']['international']))"
   ]
  },
  {
   "cell_type": "code",
   "execution_count": 237,
   "id": "96608fb0",
   "metadata": {},
   "outputs": [
    {
     "name": "stderr",
     "output_type": "stream",
     "text": [
      "en.wikipedia.org (parse) Hezbollah\n",
      "Hezbollah (en) data\n",
      "{\n",
      "  infobox: <dict(25)> name, native_name, native_name_lang, logo, l...\n",
      "  iwlinks: <list(3)> https://commons.wikimedia.org/wiki/Category:H...\n",
      "  pageid: 13919\n",
      "  parsetree: <str(305362)> <root><template><title>short descriptio...\n",
      "  requests: <list(1)> parse\n",
      "  title: Hezbollah\n",
      "  wikibase: Q41053\n",
      "  wikidata_url: https://www.wikidata.org/wiki/Q41053\n",
      "  wikitext: <str(235576)> {{short description|Lebanese Shia Islami...\n",
      "}\n"
     ]
    },
    {
     "data": {
      "text/plain": [
       "{'name': 'Hezbollah',\n",
       " 'native_name': \"حزب الله<br> {{transl|ar|DIN|Ḥizbu 'llāh}}\",\n",
       " 'native_name_lang': 'ar',\n",
       " 'logo': '[[File:Hezbollah political militia logo.png|180px]]',\n",
       " 'leader1_title': '[[Secretary-General of Hezbollah|Secretary-General]]',\n",
       " 'leader1_name': '[[Hassan Nasrallah|Sayyed Hassan Nasrallah]]',\n",
       " 'foundation': '{{Start date and age|df|=|yes|1985}} (official)',\n",
       " 'founder': '[[Abbas al-Musawi|Sayyed Abbas Al-Musawi]]',\n",
       " 'wing1_title': 'Parliamentary wing',\n",
       " 'wing1': '[[Loyalty to the Resistance Bloc]]',\n",
       " 'wing2_title': 'Paramilitary wing',\n",
       " 'wing2': 'Islamic Resistance in Lebanon<br/>[[Lebanese Resistance Brigades]]',\n",
       " 'ideology': '{{Unbulleted list |class|=|nowrap\\n  | [[Islamic]] [[nationalism]]|ref| name=\"Dalacoura 2012\"|{{Cite book |author-last=Dalacoura |author-first=Katerina |year=2012 |chapter=Islamist Terrorism and National Liberation: Hamas and Hizbullah |chapter-url=https://books.google.com/books?id=PlTKrMFyawoC&pg=PA66 |title=Islamist Terrorism and Democracy in the Middle East |location=[[Cambridge]] |publisher=[[Cambridge University Press]] |pages=66–96 |doi=10.1017/CBO9780511977367.004 |isbn=9780511977367 |lccn=2010047275 |s2cid=150958046}}|</ref>|ref|{{Cite book|first=Ekaterina|last=Stepanova|url=http://books.sipri.org/files/RR/SIPRIRR23.pdf|title=Terrorism in Asymmetrical Conflict: Ideological and Structural Aspects|archive-url=https://web.archive.org/web/20160310143530/http://books.sipri.org/files/RR/SIPRIRR23.pdf|archive-date=2016-03-10|publisher=Oxford University Press|date=2008|page=113}}|</ref>|\\n  | [[Pan-Islamism]]|ref| name=\"Dalacoura 2012\"|\\n  | [[Anti-Zionism]]\\n  | [[Anti-imperialism]]|ref|{{cite book |last=Elie Alagha |first=Joseph |title=Hizbullah\\'s Documents: From the 1985 Open Letter to the 2009 Manifesto |year=2011 |publisher=Amsterdam University Press |isbn=978-90-8555-037-2 |pages=15, 20 |url=https://books.google.com/books?id=b0ntL1fUi8kC&pg=PA15}}<br />{{cite book |last=Shehata |first=Samer |title=Islamist Politics in the Middle East: Movements and Change |year=2012 |publisher=Routledge |isbn=978-0-415-78361-3 |page=176 |url=https://books.google.com/books?id=hhl_E-XAeLYC&pg=PA176}}|</ref>|ref|{{cite journal |last=Husseinia |first=Rola El |title=Hezbollah and the Axis of Refusal: Hamas, Iran and Syria |journal=Third World Quarterly |year=2010 |volume=31 |issue=5 |pages=803–15 |doi=10.1080/01436597.2010.502695}}|</ref>|\\n  | [[Jihad#Shia|Shia Jihad]]|ref| name=\"Shiite_jihad\"|{{cite report |author=Philip Smyth |date=February 2015 |title=The Shiite Jihad in Syria and Its Regional Effects |url=http://www.washingtoninstitute.org/uploads/Documents/pubs/PolicyFocus138_Smyth-2.pdf |publisher=The Washington Institute for Near East Studies |pages=7–8 |access-date=13 March 2015}}|</ref>|\\n  | [[Political thought and legacy of Ruhollah Khomeini|Khomeinism]]|ref| name=\"Shiite_jihad\"|\\n  | [[Anti-Western sentiment|Anti-West]]|ref| name=\"Dalacoura 2012\"|ref|{{cite book |last=Levitt |first=Matthew |author-link=Matthew Levitt |year=2013 |title=Hezbollah: The Global Footprint of Lebanon\\'s Party of God |page=356 |url=https://books.google.com/books?id=yTJeAQAAQBAJ&pg=PA356 |quote=\"Hezbollah\\'s anti-Western militancy began with attacks against Western targets in Lebanon, then expanded to attacks abroad intended to exact revenge for actions threatening its or Iran\\'s interests, or to press foreign governments to release captured operatives.\" |isbn=978-1849043335}}|</ref>|ref|{{cite book |url=https://books.google.com/books?id=n9QycqW1qogC&pg=PA267 |title=An International History of Terrorism: Western and Non-Western Experiences |page=267 |quote=Based upon these beliefs, Hezbollah became vehemently anti-West and anti-Israel. |isbn=978-0415635400 |last1=Hanhimäki |first1=Jussi M. |last2=Blumenau |first2=Bernhard |year=2013}}|</ref>|ref|{{cite book |url=https://books.google.com/books?id=-MkxxSUSTuEC&pg=PT421 |title=Criminology: Theories, Patterns & Typology |page=396 |quote=Hezbollah is anti-West and anti-Israel and has engaged in a series of terrorist actions including kidnappings, car bombings, and airline hijackings. |isbn=978-1133049647 |last1=Siegel |first1=Larry J. |date=3 February 2012}}|</ref>|ref| name=\"bbc-hi-me\"|\\n  | [[Antisemitism]]|ref|{{Cite book|last=Julius|first=Anthony|author-link=Anthony Julius|url=https://books.google.com/books?id=BGkSLxDBNTgC&pg=PA529|title=Trials of the Diaspora: A History of Anti-Semitism in England|via=[[Google Books]]|date=1 May 2015|isbn=978-0-19-929705-4}}|</ref>|ref|{{Cite book|last1=Michael|first1=Robert|first2=Philip|last2=Rosen|url=https://books.google.com/books?id=d5927rY-UgoC&pg=PA231|title=Dictionary of Antisemitism from the Earliest Times to the Present|via=Google Books|date=1 May 2015|isbn=9780810858688}}|</ref>|ref|{{Cite book|last=Perry|first=Mark|url=https://archive.org/details/talkingtoterrori00perr/page/n175|page=158|title=Talking to Terrorists: Why America Must Engage with Its Enemies|date=1 May 2015|publisher=Basic Books|isbn=9780465011179}}|</ref>|ref|{{cite web |url=http://www.jpost.com/International/Analysis-Hezbollahs-lethal-anti-Semitism |title=Analysis: Hezbollah\\'s lethal anti-Semitism |work=[[The Jerusalem Post]]}}|</ref>|}} {{small|(officially denied)}}',\n",
       " 'headquarters': '[[Beirut]], Lebanon',\n",
       " 'slogan': '{{lang-ar|فَإِنَّ حِزْبَ ٱللَّهِ هُمُ ٱلْغَالِبُونَ}} <br>\"Verily the Party of God are they that shall be triumphant\" {{cite Quran|5|56}}',\n",
       " 'website': '[http://www.moqawama.org/ www.moqawama.org]',\n",
       " 'colours': '{{hlist |item_style|=|margin-left:0.5em|Yellow |Green}}',\n",
       " 'colorcode': '{{Hezbollah/meta/color}}',\n",
       " 'religion': '[[Shia Islam]]',\n",
       " 'national': '[[March 8 Alliance]]',\n",
       " 'international': '[[Axis of Resistance]]',\n",
       " 'seats1_title': '[[Parliament of Lebanon|Parliament]]',\n",
       " 'seats1': '{{Composition bar|13|128|hex|=|#F7DF19|per|=|1}}',\n",
       " 'country': '[[Lebanon]]',\n",
       " 'flag': '[[File:Flag of Hezbollah.svg|200px|Flag of Hezbollah]]'}"
      ]
     },
     "execution_count": 237,
     "metadata": {},
     "output_type": "execute_result"
    }
   ],
   "source": [
    "# https://en.wikipedia.org/wiki/Hezbollah\n",
    "page6 = wptools.page('Hezbollah')\n",
    "page6.get_parse()\n",
    "page6.data['infobox'] "
   ]
  },
  {
   "cell_type": "code",
   "execution_count": 273,
   "id": "f9a20416",
   "metadata": {},
   "outputs": [
    {
     "name": "stdout",
     "output_type": "stream",
     "text": [
      "['Secretary-General']\n",
      "-----------------\n",
      "['Sayyed Hassan Nasrallah']\n",
      "-----------------\n",
      "['Beirut, Lebanon']\n",
      "-----------------\n",
      "['Islamic nationalism', 'Pan-Islamism', 'Anti-Zionism', 'Anti-imperialism', 'Shia Jihad', 'Khomeinism', 'Anti-West', 'Antisemitism']\n",
      "-----------------\n",
      "-----------------\n",
      "['Shia Islam']\n",
      "-----------------\n",
      "['March 8 Alliance']\n",
      "-----------------\n",
      "['Axis of Resistance']\n"
     ]
    }
   ],
   "source": [
    "print(get_list_items(page6.data['infobox']['leader1_title']))\n",
    "print('-----------------')\n",
    "print(get_list_items(page6.data['infobox']['leader1_name']))\n",
    "print('-----------------')\n",
    "# print(get_list_items(page6.data['infobox']['leader2_title']))\n",
    "# print('-----------------')\n",
    "# print(get_list_items(page6.data['infobox']['leader2_name']))\n",
    "# print('-----------------')\n",
    "print(get_list_items(page6.data['infobox']['headquarters']))\n",
    "print('-----------------')\n",
    "print(get_list_items(page6.data['infobox']['ideology']))\n",
    "print('-----------------')\n",
    "# print(get_list_items(page6.data['infobox']['position']))\n",
    "print('-----------------')\n",
    "print(get_list_items(page6.data['infobox']['religion']))\n",
    "print('-----------------')\n",
    "print(get_list_items(page6.data['infobox']['national']))\n",
    "print('-----------------')\n",
    "print(get_list_items(page6.data['infobox']['international']))"
   ]
  },
  {
   "cell_type": "code",
   "execution_count": 217,
   "id": "0561e25b",
   "metadata": {},
   "outputs": [
    {
     "name": "stderr",
     "output_type": "stream",
     "text": [
      "en.wikipedia.org (parse) 1958_Lebanon_crisis\n",
      "en.wikipedia.org (imageinfo) File:Foxhole - Lebanon - Beirut - Ju...\n",
      "1958 Lebanon crisis (en) data\n",
      "{\n",
      "  image: <list(1)> {'kind': 'parse-image', 'file': 'File:Foxhole -...\n",
      "  infobox: <dict(15)> conflict, partof, image, image_size, caption...\n",
      "  iwlinks: <list(1)> https://commons.wikimedia.org/wiki/Category:C...\n",
      "  pageid: 287824\n",
      "  parsetree: <str(53128)> <root><template><title>Infobox military ...\n",
      "  requests: <list(2)> parse, imageinfo\n",
      "  title: 1958 Lebanon crisis\n",
      "  wikibase: Q1542222\n",
      "  wikidata_url: https://www.wikidata.org/wiki/Q1542222\n",
      "  wikitext: <str(27954)> {{Infobox military conflict| conflict    ...\n",
      "}\n"
     ]
    },
    {
     "data": {
      "text/plain": [
       "<wptools.page.WPToolsPage at 0x19e37d4beb0>"
      ]
     },
     "execution_count": 217,
     "metadata": {},
     "output_type": "execute_result"
    }
   ],
   "source": [
    "page3 = wptools.page('1958_Lebanon_crisis')\n",
    "page3.get_parse()"
   ]
  },
  {
   "cell_type": "code",
   "execution_count": 218,
   "id": "7f140991",
   "metadata": {},
   "outputs": [
    {
     "data": {
      "text/plain": [
       "False"
      ]
     },
     "execution_count": 218,
     "metadata": {},
     "output_type": "execute_result"
    }
   ],
   "source": [
    "page3.data['infobox'] is None"
   ]
  },
  {
   "cell_type": "code",
   "execution_count": 219,
   "id": "2b459171",
   "metadata": {},
   "outputs": [
    {
     "data": {
      "text/plain": [
       "{'conflict': '1958 Lebanon crisis',\n",
       " 'partof': 'the [[Cold War]] and the [[Arab Cold War]]',\n",
       " 'image': 'Foxhole - Lebanon - Beirut - July 1958.jpg',\n",
       " 'image_size': '400',\n",
       " 'caption': 'American Marine in a foxhole outside Beirut',\n",
       " 'date': '{{start and end dates|1958|07|15|1958|10|25|df|=|y}}',\n",
       " 'place': '[[Port of Beirut]], [[Beirut–Rafic Hariri International Airport|Beirut Intl. Airport]], Lebanon',\n",
       " 'result': 'President [[Camille Chamoun]] steps down and Major General [[Fouad Chehab]] is elected to succeed him',\n",
       " 'combatant1': \"{{flagicon|Lebanon}} '''[[Lebanon|Government]]'''\\n* [[File:Lebanesearmyfirstflag.png|22px|border]] [[Lebanese Armed Forces]]\\n* {{flagicon image|Flag of Kataeb Party.svg}} [[Kataeb Party]]\\n* [[File:Flag of the Syrian Social Nationalist Party.svg|22px|border]] [[Syrian Social Nationalist Party in Lebanon|SSNP]]\\n* [[File:Ahrar flag.gif|23px|border]] [[National Liberal Party (Lebanon)|National Liberal Party]]\\n* [[File:Armenian Revolutionary Federation Flag.svg|22px|border]] [[Armenian Revolutionary Federation in Lebanon|Tashnag]]\\n----\\n'''Supported by''':<br> {{flagicon|United States|1912}} [[United States]]\",\n",
       " 'combatant2': \"{{flagicon|Lebanon}} '''[[List of political parties in Lebanon|Opposition]]'''\\n* [[File:Flag_of_Hejaz_1917.svg|22px|border]] [[Najjadeh Party]]\\n* [[File:Flag of the Progressive Socialist Party.svg|22px|border]] [[Progressive Socialist Party]]\\n* [[File:Flag of the Lebanese Communist Party.svg|22px|border]] [[Lebanese Communist Party]]\\n----\\n'''Supported by''':<br> {{flagicon|Soviet Union|1955}} [[Soviet Union]] <br /> {{flag|United Arab Republic|size|=|20px}}\",\n",
       " 'commander1': '{{flagicon|Lebanon}} [[Camille Chamoun]]<br> {{flagicon|Lebanon}} [[Naim Moghabghab]]<br>[[File:Lebanesearmyfirstflag.png|22px|border]] [[Fuad Chehab|Gen. Fouad Chehab]]<br> {{flagicon image|Flag of Kataeb Party.svg}} [[Pierre Gemayel]]\\n---- {{flagicon|United States|1912}} [[Dwight D. Eisenhower]]',\n",
       " 'commander2': '{{flagicon|Lebanon}} [[Rashid Karami]]<br> {{flagicon|Lebanon}} [[Saeb Salam]]<br> {{flagicon|Lebanon}} [[Adnan Al-Hakim]] <br> {{flagicon|Lebanon}} [[Kamal Jumblatt]]\\n---- {{flagicon|Syria}} [[Gamal Abdel Nasser]]',\n",
       " 'casualties1': '± 1,000',\n",
       " 'casualties2': '+ 5,000',\n",
       " 'campaignbox': '{{Campaignbox Lebanon}}'}"
      ]
     },
     "execution_count": 219,
     "metadata": {},
     "output_type": "execute_result"
    }
   ],
   "source": [
    "page3.data['infobox'] "
   ]
  },
  {
   "cell_type": "code",
   "execution_count": 220,
   "id": "140804a9",
   "metadata": {},
   "outputs": [
    {
     "data": {
      "text/plain": [
       "dict_keys(['conflict', 'partof', 'image', 'image_size', 'caption', 'date', 'place', 'result', 'combatant1', 'combatant2', 'commander1', 'commander2', 'casualties1', 'casualties2', 'campaignbox'])"
      ]
     },
     "execution_count": 220,
     "metadata": {},
     "output_type": "execute_result"
    }
   ],
   "source": [
    "page3.data['infobox'].keys()"
   ]
  },
  {
   "cell_type": "code",
   "execution_count": 221,
   "id": "035edc85",
   "metadata": {},
   "outputs": [
    {
     "data": {
      "text/plain": [
       "'President [[Camille Chamoun]] steps down and Major General [[Fouad Chehab]] is elected to succeed him'"
      ]
     },
     "execution_count": 221,
     "metadata": {},
     "output_type": "execute_result"
    }
   ],
   "source": [
    "page3.data['infobox']['result']"
   ]
  },
  {
   "cell_type": "code",
   "execution_count": 272,
   "id": "188e28e4",
   "metadata": {},
   "outputs": [],
   "source": [
    "def remove_file_instances(s):\n",
    "    if '[[' in s and ']]' in s and 'File' in s:\n",
    "        ind2 = s.rfind(']')\n",
    "        return s[ind2+1:]\n",
    "    else:\n",
    "        return s\n",
    "\n",
    "def to_delete(s):\n",
    "    return 'name' in s or '{' in s or '}' in s or '=' in s or 'class' in s or 'nowrap' in s\n",
    "\n",
    "def get_list_items(div):\n",
    "    s = re.sub('{{.*?}}', '', div)\n",
    "    s = re.sub('\\'', '', s)\n",
    "    s = re.sub(r'\\[\\[(?:[^\\]|]*\\|)?([^\\]|]*)\\]\\]', r'\\1', s)\n",
    "    s = re.sub('\\n----', '<br>', s)\n",
    "    s = re.sub('\\n\\*', '<br>', s)\n",
    "    s = re.sub('<br />', '<br>', s)\n",
    "    s = re.sub('</ref>|ref||</ref>', '', s)\n",
    "    s = re.sub('</ref>', '', s)\n",
    "    s = re.sub('ref', '', s)\n",
    "#     s = re.sub('|', '', s)\n",
    "    s = s.translate({ord('|'): '<br>'})\n",
    "#     if '<br>' in s:\n",
    "    s = s.split(\"<br>\")\n",
    "#     else:\n",
    "#         s = s.split(\"\\|\")\n",
    "    s = [e.strip() for e in s if e.strip() != '']\n",
    "    s = [remove_file_instances(e).strip() for e in s]\n",
    "    s = [e for e in s if not to_delete(e)]\n",
    "    return s"
   ]
  },
  {
   "cell_type": "code",
   "execution_count": 223,
   "id": "bc0b6cdd",
   "metadata": {},
   "outputs": [
    {
     "data": {
      "text/plain": [
       "\"{{flagicon|Lebanon}} '''[[Lebanon|Government]]'''\\n* [[File:Lebanesearmyfirstflag.png|22px|border]] [[Lebanese Armed Forces]]\\n* {{flagicon image|Flag of Kataeb Party.svg}} [[Kataeb Party]]\\n* [[File:Flag of the Syrian Social Nationalist Party.svg|22px|border]] [[Syrian Social Nationalist Party in Lebanon|SSNP]]\\n* [[File:Ahrar flag.gif|23px|border]] [[National Liberal Party (Lebanon)|National Liberal Party]]\\n* [[File:Armenian Revolutionary Federation Flag.svg|22px|border]] [[Armenian Revolutionary Federation in Lebanon|Tashnag]]\\n----\\n'''Supported by''':<br> {{flagicon|United States|1912}} [[United States]]\""
      ]
     },
     "execution_count": 223,
     "metadata": {},
     "output_type": "execute_result"
    }
   ],
   "source": [
    "comb1 = page3.data['infobox']['combatant1']\n",
    "comb1"
   ]
  },
  {
   "cell_type": "code",
   "execution_count": 224,
   "id": "78d283c7",
   "metadata": {},
   "outputs": [
    {
     "data": {
      "text/plain": [
       "['Government',\n",
       " 'Lebanese Armed Forces',\n",
       " 'Kataeb Party',\n",
       " 'SSNP',\n",
       " 'National Liberal Party',\n",
       " 'Tashnag',\n",
       " 'Supported by:',\n",
       " 'United States']"
      ]
     },
     "execution_count": 224,
     "metadata": {},
     "output_type": "execute_result"
    }
   ],
   "source": [
    "get_list_items(comb1)"
   ]
  },
  {
   "cell_type": "code",
   "execution_count": 227,
   "id": "2aa38366",
   "metadata": {},
   "outputs": [
    {
     "data": {
      "text/plain": [
       "\"{{flagicon|Lebanon}} '''[[List of political parties in Lebanon|Opposition]]'''\\n* [[File:Flag_of_Hejaz_1917.svg|22px|border]] [[Najjadeh Party]]\\n* [[File:Flag of the Progressive Socialist Party.svg|22px|border]] [[Progressive Socialist Party]]\\n* [[File:Flag of the Lebanese Communist Party.svg|22px|border]] [[Lebanese Communist Party]]\\n----\\n'''Supported by''':<br> {{flagicon|Soviet Union|1955}} [[Soviet Union]] <br /> {{flag|United Arab Republic|size|=|20px}}\""
      ]
     },
     "execution_count": 227,
     "metadata": {},
     "output_type": "execute_result"
    }
   ],
   "source": [
    "comb2 = page3.data['infobox']['combatant2']\n",
    "comb2"
   ]
  },
  {
   "cell_type": "code",
   "execution_count": 228,
   "id": "7ab882b8",
   "metadata": {},
   "outputs": [
    {
     "data": {
      "text/plain": [
       "['Opposition',\n",
       " 'Najjadeh Party',\n",
       " 'Progressive Socialist Party',\n",
       " 'Lebanese Communist Party',\n",
       " 'Supported by:',\n",
       " 'Soviet Union']"
      ]
     },
     "execution_count": 228,
     "metadata": {},
     "output_type": "execute_result"
    }
   ],
   "source": [
    "get_list_items(comb2)"
   ]
  },
  {
   "cell_type": "code",
   "execution_count": 229,
   "id": "783c3825",
   "metadata": {},
   "outputs": [
    {
     "data": {
      "text/plain": [
       "'{{flagicon|Lebanon}} [[Camille Chamoun]]<br> {{flagicon|Lebanon}} [[Naim Moghabghab]]<br>[[File:Lebanesearmyfirstflag.png|22px|border]] [[Fuad Chehab|Gen. Fouad Chehab]]<br> {{flagicon image|Flag of Kataeb Party.svg}} [[Pierre Gemayel]]\\n---- {{flagicon|United States|1912}} [[Dwight D. Eisenhower]]'"
      ]
     },
     "execution_count": 229,
     "metadata": {},
     "output_type": "execute_result"
    }
   ],
   "source": [
    "comm1 = page3.data['infobox']['commander1']\n",
    "comm1"
   ]
  },
  {
   "cell_type": "code",
   "execution_count": 230,
   "id": "432e7b28",
   "metadata": {},
   "outputs": [
    {
     "data": {
      "text/plain": [
       "['Camille Chamoun',\n",
       " 'Naim Moghabghab',\n",
       " 'Gen. Fouad Chehab',\n",
       " 'Pierre Gemayel',\n",
       " 'Dwight D. Eisenhower']"
      ]
     },
     "execution_count": 230,
     "metadata": {},
     "output_type": "execute_result"
    }
   ],
   "source": [
    "get_list_items(comm1)"
   ]
  },
  {
   "cell_type": "code",
   "execution_count": 231,
   "id": "751ca6db",
   "metadata": {},
   "outputs": [
    {
     "data": {
      "text/plain": [
       "'{{flagicon|Lebanon}} [[Rashid Karami]]<br> {{flagicon|Lebanon}} [[Saeb Salam]]<br> {{flagicon|Lebanon}} [[Adnan Al-Hakim]] <br> {{flagicon|Lebanon}} [[Kamal Jumblatt]]\\n---- {{flagicon|Syria}} [[Gamal Abdel Nasser]]'"
      ]
     },
     "execution_count": 231,
     "metadata": {},
     "output_type": "execute_result"
    }
   ],
   "source": [
    "comm2 = page3.data['infobox']['commander2']\n",
    "comm2"
   ]
  },
  {
   "cell_type": "code",
   "execution_count": 232,
   "id": "619cc5d1",
   "metadata": {},
   "outputs": [
    {
     "data": {
      "text/plain": [
       "['Rashid Karami',\n",
       " 'Saeb Salam',\n",
       " 'Adnan Al-Hakim',\n",
       " 'Kamal Jumblatt',\n",
       " 'Gamal Abdel Nasser']"
      ]
     },
     "execution_count": 232,
     "metadata": {},
     "output_type": "execute_result"
    }
   ],
   "source": [
    "get_list_items(comm2)"
   ]
  },
  {
   "cell_type": "code",
   "execution_count": 22,
   "id": "cbaa6c77",
   "metadata": {},
   "outputs": [],
   "source": [
    "page = wptools.page('Palestine_Liberation_Organization')"
   ]
  },
  {
   "cell_type": "code",
   "execution_count": 23,
   "id": "c98b272e",
   "metadata": {},
   "outputs": [
    {
     "name": "stderr",
     "output_type": "stream",
     "text": [
      "en.wikipedia.org (parse) Palestine_Liberation_Organization\n",
      "Palestine Liberation Organization (en) data\n",
      "{\n",
      "  infobox: <dict(13)> name, logo, abbreviation, leader1_title, lea...\n",
      "  iwlinks: <list(2)> https://ar.wikipedia.org/wiki/%D9%85%D9%86%D8...\n",
      "  pageid: 24324\n",
      "  parsetree: <str(88988)> <root><template><title>short description...\n",
      "  requests: <list(1)> parse\n",
      "  title: Palestine Liberation Organization\n",
      "  wikibase: Q26683\n",
      "  wikidata_url: https://www.wikidata.org/wiki/Q26683\n",
      "  wikitext: <str(73146)> {{short description|Palestinian militant ...\n",
      "}\n"
     ]
    },
    {
     "data": {
      "text/plain": [
       "<wptools.page.WPToolsPage at 0x21ef305ceb0>"
      ]
     },
     "execution_count": 23,
     "metadata": {},
     "output_type": "execute_result"
    }
   ],
   "source": [
    "page.get_parse()"
   ]
  },
  {
   "cell_type": "code",
   "execution_count": 24,
   "id": "33f19fef",
   "metadata": {},
   "outputs": [
    {
     "data": {
      "text/plain": [
       "{'name': 'Palestine Liberation Organization',\n",
       " 'logo': '[[File:Plo emblem.png]]',\n",
       " 'abbreviation': 'PLO',\n",
       " 'leader1_title': '[[Chairman of the Palestine Liberation Organization|Chairman]]',\n",
       " 'leader1_name': '[[Mahmoud Abbas]]',\n",
       " 'founded': '28 May 1964',\n",
       " 'ideology': '[[Palestinian nationalism]]',\n",
       " 'anthem': \"[[Fida'i]]\",\n",
       " 'seats1_title': '[[Palestinian Legislative Council]]',\n",
       " 'country': 'Palestine',\n",
       " 'country_dab1': 'Politics of the Palestinian National Authority',\n",
       " 'parties_dab1': 'List of political parties in the State of Palestine',\n",
       " 'elections_dab1': 'Elections in Palestine'}"
      ]
     },
     "execution_count": 24,
     "metadata": {},
     "output_type": "execute_result"
    }
   ],
   "source": [
    "page.data['infobox']"
   ]
  },
  {
   "cell_type": "code",
   "execution_count": 10,
   "id": "b9fdb21c",
   "metadata": {},
   "outputs": [
    {
     "data": {
      "text/plain": [
       "<wptools.page.WPToolsPage at 0x21ef2d65460>"
      ]
     },
     "execution_count": 10,
     "metadata": {},
     "output_type": "execute_result"
    }
   ],
   "source": [
    "page"
   ]
  },
  {
   "cell_type": "code",
   "execution_count": 11,
   "id": "a8ef9acd",
   "metadata": {
    "scrolled": true
   },
   "outputs": [
    {
     "name": "stderr",
     "output_type": "stream",
     "text": [
      "en.wikipedia.org (query) Palestine Liberation Organization\n",
      "en.wikipedia.org (imageinfo) File:Coat of arms of Palestine (alte...\n",
      "Palestine Liberation Organization (en) data\n",
      "{\n",
      "  WARNINGS: <dict(1)> extracts\n",
      "  assessments: <dict(2)> Military history, Palestine\n",
      "  description: <str(75)> organization with the purpose of creating...\n",
      "  extext: <str(1237)> The **Palestine Liberation Organization** ( ...\n",
      "  extract: <str(1436)> <p class=\"mw-empty-elt\"></p><p class=\"mw-em...\n",
      "  image: <list(2)> {'kind': 'query-pageimage', 'file': 'File:Coat ...\n",
      "  label: Palestine Liberation Organization\n",
      "  length: 73,745\n",
      "  links: <list(328)> 1947–1949 Palestine war, 1948 Palestinian exo...\n",
      "  modified: <dict(1)> page\n",
      "  pageid: 24324\n",
      "  random: Norbulingka Institute\n",
      "  redirects: <list(19)> {'pageid': 24299, 'ns': 0, 'title': 'PLO'}...\n",
      "  requests: <list(2)> query, imageinfo\n",
      "  title: Palestine Liberation Organization\n",
      "  url: https://en.wikipedia.org/wiki/Palestine_Liberation_Organization\n",
      "  url_raw: <str(74)> https://en.wikipedia.org/wiki/Palestine_Liber...\n",
      "  watchers: 338\n",
      "  wikibase: Q26683\n",
      "  wikidata_url: https://www.wikidata.org/wiki/Q26683\n",
      "}\n"
     ]
    },
    {
     "data": {
      "text/plain": [
       "<wptools.page.WPToolsPage at 0x21ef2d65460>"
      ]
     },
     "execution_count": 11,
     "metadata": {},
     "output_type": "execute_result"
    }
   ],
   "source": [
    "page.get_query()"
   ]
  },
  {
   "cell_type": "code",
   "execution_count": 13,
   "id": "2bb1f541",
   "metadata": {},
   "outputs": [
    {
     "data": {
      "text/plain": [
       "{'requests': ['query', 'imageinfo'],\n",
       " 'WARNINGS': {'extracts': {'warnings': 'HTML may be malformed and/or unbalanced and may omit inline images. Use at your own risk. Known problems are listed at https://www.mediawiki.org/wiki/Special:MyLanguage/Extension:TextExtracts#Caveats.'}},\n",
       " 'random': 'Norbulingka Institute',\n",
       " 'redirected': None,\n",
       " 'pageid': 24324,\n",
       " 'assessments': {'Military history': {'class': 'B', 'importance': ''},\n",
       "  'Palestine': {'class': 'C', 'importance': 'Top'}},\n",
       " 'extract': '<p class=\"mw-empty-elt\">\\n</p>\\n<p class=\"mw-empty-elt\">\\n\\n</p>\\n\\n<p>The <b>Palestine Liberation Organization</b> (<b>PLO</b>; Arabic: <span lang=\"ar\" dir=\"rtl\">منظمة التحرير الفلسطينية</span>\\u200e, <i><i lang=\"ar-Latn\" title=\"DIN 31635 Arabic (Arabic language) transliteration\">Munaẓẓamat at-Taḥrīr al-Filasṭīniyyah</i></i>) is an organization founded in 1964 with the purpose of the \"liberation of Palestine\" through armed struggle. It is recognized as the \"sole legitimate representative\" of the Palestinian people by over 100 states with which it holds diplomatic relations, and, as the official government of the State of Palestine, has enjoyed observer status at the United Nations since 1974. Due to its activities, including violence aimed at Israeli civilians, the PLO was declared by the United States to be a terrorist organization in 1987, although a presidential waiver has permitted contact since 1988. In 1993, the PLO recognized Israel\\'s right to exist in peace, accepted UN Security Council resolutions 242 and 338, and rejected \"violence and terrorism\". In response, Israel officially recognized the PLO as the representative of the Palestinian people. However, the PLO has employed violence in the years since 1993, particularly during the 2000–2005 Al-Aqsa Intifada. On 29 October 2018, the Palestinian Central Council suspended the recognition of Israel and halted security and economic coordination in all its forms with it.</p>',\n",
       " 'extext': 'The **Palestine Liberation Organization** ( **PLO** ; Arabic: منظمة التحرير\\nالفلسطينية\\u200e, __Munaẓẓamat at-Taḥrīr al-Filasṭīniyyah__ ) is an organization\\nfounded in 1964 with the purpose of the \"liberation of Palestine\" through\\narmed struggle. It is recognized as the \"sole legitimate representative\" of\\nthe Palestinian people by over 100 states with which it holds diplomatic\\nrelations, and, as the official government of the State of Palestine, has\\nenjoyed observer status at the United Nations since 1974. Due to its\\nactivities, including violence aimed at Israeli civilians, the PLO was\\ndeclared by the United States to be a terrorist organization in 1987, although\\na presidential waiver has permitted contact since 1988. In 1993, the PLO\\nrecognized Israel\\'s right to exist in peace, accepted UN Security Council\\nresolutions 242 and 338, and rejected \"violence and terrorism\". In response,\\nIsrael officially recognized the PLO as the representative of the Palestinian\\npeople. However, the PLO has employed violence in the years since 1993,\\nparticularly during the 2000–2005 Al-Aqsa Intifada. On 29 October 2018, the\\nPalestinian Central Council suspended the recognition of Israel and halted\\nsecurity and economic coordination in all its forms with it.',\n",
       " 'url': 'https://en.wikipedia.org/wiki/Palestine_Liberation_Organization',\n",
       " 'url_raw': 'https://en.wikipedia.org/wiki/Palestine_Liberation_Organization?action=raw',\n",
       " 'length': 73745,\n",
       " 'links': ['1947–1949 Palestine war',\n",
       "  '1948 Palestinian exodus',\n",
       "  '1964 Arab League summit (Cairo)',\n",
       "  '1978 South Lebanon conflict',\n",
       "  '1982 Lebanon War',\n",
       "  '2006 Palestinian legislative election',\n",
       "  '2009 Battle of Rafah',\n",
       "  '2009 Hamas political violence in Gaza',\n",
       "  'Abu Nidal',\n",
       "  'Afro-Palestinians',\n",
       "  'Aftermath of the Gulf War',\n",
       "  'Ahmad Shukeiri',\n",
       "  'Al-Aqsa Intifada',\n",
       "  'Al-Bireh',\n",
       "  'Algiers',\n",
       "  'Alliance of Palestinian Forces',\n",
       "  'Anwar Sadat',\n",
       "  'Arab League',\n",
       "  'Arab Liberation Front',\n",
       "  'Arab citizens of Israel',\n",
       "  'Arabic language',\n",
       "  'Arabs',\n",
       "  'Architecture of Palestine',\n",
       "  'Archive.today',\n",
       "  'Arms industry',\n",
       "  \"As-Sa'iqa\",\n",
       "  'Avivim school bus bombing',\n",
       "  'Aziz Duwaik',\n",
       "  'Aziz Dweik',\n",
       "  \"Ba'ath Party (Iraqi-dominated faction)\",\n",
       "  \"Ba'ath Party (Syrian-dominated faction)\",\n",
       "  \"Ba'athism\",\n",
       "  'Balfour Declaration',\n",
       "  'Battle of Gaza (2007)',\n",
       "  'Battle of Karameh',\n",
       "  'Bedouin',\n",
       "  'Beirut',\n",
       "  'Black September',\n",
       "  'Black September Organization',\n",
       "  'Bushnak',\n",
       "  'Cairo',\n",
       "  'Cairo Agreement (1969)',\n",
       "  'Camp David Accords',\n",
       "  \"Cause of Yasser Arafat's death\",\n",
       "  'Chairman of the Palestine Liberation Organization',\n",
       "  'Christianity in Lebanon',\n",
       "  'Cinema of Palestine',\n",
       "  'Coastal Road massacre',\n",
       "  'Coat of arms of Palestine',\n",
       "  'Committee for the Propagation of Virtue and the Prevention of Vice (Gaza Strip)',\n",
       "  'Communism',\n",
       "  'Culture of Palestine',\n",
       "  'Current members of Palestinian Legislative Council',\n",
       "  'Dabke',\n",
       "  'Damascus',\n",
       "  'Damour',\n",
       "  'Damour massacre',\n",
       "  \"Dawson's Field hijackings\",\n",
       "  'Democratic Front for the Liberation of Palestine',\n",
       "  'Democratic socialism',\n",
       "  'Demographics of the Palestinian territories',\n",
       "  'Donation',\n",
       "  'Druze in Mandatory Palestine',\n",
       "  'East Jerusalem',\n",
       "  'Economy of the State of Palestine',\n",
       "  'Education in the State of Palestine',\n",
       "  'Ehud Barak',\n",
       "  'Elections in Palestine',\n",
       "  'Electoral regions in the State of Palestine',\n",
       "  'Emek HaMaayanot Regional Council',\n",
       "  'Encarta',\n",
       "  'European Economic Community',\n",
       "  'Executive Committee of the Palestine Liberation Organization',\n",
       "  'Extortion',\n",
       "  'Far-left politics',\n",
       "  'Fatah',\n",
       "  'Fatah al-Intifada',\n",
       "  'Fatah–Hamas conflict',\n",
       "  'Fatah–Hamas reconciliation process',\n",
       "  \"Fida'i\",\n",
       "  'First Intifada',\n",
       "  'Flag of Palestine',\n",
       "  'Foreign Affairs Minister of the Palestinian National Authority',\n",
       "  'Foreign relations of the State of Palestine',\n",
       "  'Fraud',\n",
       "  'Gaza Strip',\n",
       "  'Gaza War (2008–2009)',\n",
       "  'Geneva',\n",
       "  'Geography of the State of Palestine',\n",
       "  'Governance of the Gaza Strip',\n",
       "  'Governorates of Palestine',\n",
       "  'Guerrilla warfare',\n",
       "  'Hamas',\n",
       "  'Healthcare in the State of Palestine',\n",
       "  'Helena Cobban',\n",
       "  'History of Palestine',\n",
       "  'History of Palestinians in Los Angeles',\n",
       "  'History of sport in Palestine',\n",
       "  'History of the Palestinians',\n",
       "  'History of the State of Palestine',\n",
       "  'Holy See',\n",
       "  'Human rights in the State of Palestine',\n",
       "  'Hussein of Jordan',\n",
       "  'ISBN (identifier)',\n",
       "  'ISNI (identifier)',\n",
       "  'Illegal drug trade',\n",
       "  'International aid to Palestinians',\n",
       "  'International recognition of the State of Palestine',\n",
       "  'Iraq',\n",
       "  'Islam in Palestine',\n",
       "  'Islamic Jihad Movement in Palestine',\n",
       "  'Ismail Haniyeh',\n",
       "  'Israel',\n",
       "  'Israeli Air Force',\n",
       "  'Israeli–Palestinian conflict',\n",
       "  'Israeli–Palestinian peace process',\n",
       "  'Jericho',\n",
       "  'Jordan',\n",
       "  'Judea',\n",
       "  'Karantina massacre',\n",
       "  'Khalid ʽAbd al-Majid',\n",
       "  'Kibbutz',\n",
       "  'Kurds in Palestine',\n",
       "  'LGBT rights in the State of Palestine',\n",
       "  'Lebanese Civil War',\n",
       "  'Lebanese Druze',\n",
       "  'Lebanese National Movement',\n",
       "  'Lebanese Shia Muslims',\n",
       "  'Lebanese Sunni Muslims',\n",
       "  'Lebanon',\n",
       "  'Left-wing nationalism',\n",
       "  'Left-wing politics',\n",
       "  'Legal status of the State of Palestine',\n",
       "  'Leon Klinghoffer',\n",
       "  'Levantine archaeology',\n",
       "  'List of Palestinians',\n",
       "  'List of World Heritage Sites in the State of Palestine',\n",
       "  'List of cities administered by the Palestinian Authority',\n",
       "  'List of current permanent representatives to the United Nations',\n",
       "  'List of designated terrorist groups',\n",
       "  'List of diplomatic missions in Palestine',\n",
       "  'List of diplomatic missions of Palestine',\n",
       "  'List of diplomatic missions of the State of Palestine',\n",
       "  'List of political ideologies',\n",
       "  'List of political parties in the Palestine Liberation Organization',\n",
       "  'List of political parties in the Palestinian National Authority',\n",
       "  'List of political parties in the State of Palestine',\n",
       "  'List of towns and villages depopulated during the 1947–1949 Palestine war',\n",
       "  'List of universities and colleges in the State of Palestine',\n",
       "  'List of years in the Palestinian territories',\n",
       "  'Los Angeles Times',\n",
       "  \"Ma'alot massacre\",\n",
       "  \"Ma'an News Agency\",\n",
       "  'Madiha Rashid Al-Madfai',\n",
       "  'Mahmoud Abbas',\n",
       "  'Mandatory Palestine',\n",
       "  'McDonnell Douglas F-15E Strike Eagle',\n",
       "  'Menachem Begin',\n",
       "  'Ministry of Defense (Israel)',\n",
       "  'Ministry of Foreign Affairs and Expatriates (State of Palestine)',\n",
       "  'Mohammad Shtayyeh',\n",
       "  'Money laundering',\n",
       "  'Moshav',\n",
       "  'Muhammad Zaidan',\n",
       "  'Munich massacre',\n",
       "  'Music of Palestine',\n",
       "  'Nakba',\n",
       "  'National Criminal Intelligence Service',\n",
       "  'National Water Carrier of Israel',\n",
       "  'Nawar people',\n",
       "  'Next Palestinian general election',\n",
       "  'Operation Wooden Leg',\n",
       "  'Orient House',\n",
       "  'Oslo Accords',\n",
       "  'Outline of political science',\n",
       "  'PLO',\n",
       "  'PLO (disambiguation)',\n",
       "  'PLO Negotiations Affairs Department',\n",
       "  \"PLO's Ten Point Program\",\n",
       "  'Palestine (region)',\n",
       "  'Palestine 194',\n",
       "  'Palestine Exchange',\n",
       "  'Palestine Liberation Army',\n",
       "  'Palestine Monetary Authority',\n",
       "  'Palestine News Network',\n",
       "  'Palestine and the United Nations',\n",
       "  'Palestine–Israel Journal',\n",
       "  'Palestinian Academic Society for the Study of International Affairs',\n",
       "  'Palestinian Ambassador to the United Nations',\n",
       "  'Palestinian Americans',\n",
       "  'Palestinian Arab Front',\n",
       "  'Palestinian Arabic',\n",
       "  'Palestinian Australians',\n",
       "  'Palestinian Authority passport',\n",
       "  'Palestinian Baháʼís',\n",
       "  'Palestinian Basic Law',\n",
       "  'Palestinian Brazilian',\n",
       "  'Palestinian Broadcasting Corporation',\n",
       "  'Palestinian Canadians',\n",
       "  'Palestinian Central Council',\n",
       "  'Palestinian Christians',\n",
       "  'Palestinian Declaration of Independence',\n",
       "  'Palestinian Democratic Union',\n",
       "  'Palestinian Haitians',\n",
       "  'Palestinian Jews',\n",
       "  'Palestinian Legislative Council',\n",
       "  'Palestinian Liberation Front',\n",
       "  'Palestinian Liberation Front (Abu Nidal Ashqar wing)',\n",
       "  'Palestinian Media Watch',\n",
       "  'Palestinian Metawalis',\n",
       "  'Palestinian National Anthem',\n",
       "  'Palestinian National Authority',\n",
       "  'Palestinian National Council',\n",
       "  'Palestinian National Covenant',\n",
       "  'Palestinian National Initiative',\n",
       "  'Palestinian National Security Forces',\n",
       "  'Palestinian Nicaraguan',\n",
       "  \"Palestinian People's Party\",\n",
       "  'Palestinian Popular Struggle Front',\n",
       "  'Palestinian Popular Struggle Front (1991)',\n",
       "  'Palestinian Preventive Security',\n",
       "  'Palestinian Salvadoran',\n",
       "  'Palestinian Uruguayans',\n",
       "  'Palestinian art',\n",
       "  'Palestinian community in Chile',\n",
       "  'Palestinian costumes',\n",
       "  'Palestinian cuisine',\n",
       "  'Palestinian diaspora',\n",
       "  'Palestinian enclaves',\n",
       "  'Palestinian exodus from Kuwait (1990–91)',\n",
       "  'Palestinian fedayeen',\n",
       "  'Palestinian flag',\n",
       "  'Palestinian government',\n",
       "  'Palestinian handicrafts',\n",
       "  'Palestinian insurgency in South Lebanon',\n",
       "  'Palestinian keffiyeh',\n",
       "  'Palestinian law',\n",
       "  'Palestinian literature',\n",
       "  'Palestinian nationalism',\n",
       "  'Palestinian political violence',\n",
       "  'Palestinian refugee camps',\n",
       "  'Palestinian refugees',\n",
       "  'Palestinian right of return',\n",
       "  'Palestinian territories',\n",
       "  'Palestinian views on the peace process',\n",
       "  'Palestinians',\n",
       "  'Palestinians in Egypt',\n",
       "  'Palestinians in Iraq',\n",
       "  'Palestinians in Jordan',\n",
       "  'Palestinians in Lebanon',\n",
       "  'Palestinians in Pakistan',\n",
       "  'Palestinians in Syria',\n",
       "  'Politics of Palestine',\n",
       "  'Politics of the Palestinian National Authority',\n",
       "  'Popular Front for the Liberation of Palestine',\n",
       "  'Popular Front for the Liberation of Palestine – General Command',\n",
       "  'Postage stamps and postal history of the Palestinian National Authority',\n",
       "  'President of the Palestinian National Authority',\n",
       "  'President of the State of Palestine',\n",
       "  'Prime Minister of the State of Palestine',\n",
       "  'Ramallah',\n",
       "  'Rejectionist Front',\n",
       "  'Revolutionary Palestinian Communist Party',\n",
       "  'Rex Tillerson',\n",
       "  'Right of return',\n",
       "  'Right to exist',\n",
       "  'Riyad al-Maliki',\n",
       "  'SUDOC (identifier)',\n",
       "  'Salam Fayyad',\n",
       "  'Samaria',\n",
       "  'Samaritans',\n",
       "  'Savoy Hotel attack',\n",
       "  'Second Intifada',\n",
       "  'Secularism',\n",
       "  'Sharia',\n",
       "  'Six-Day War',\n",
       "  'Socialism',\n",
       "  'Sokolow et al v. Palestine Liberation Organization et al',\n",
       "  'Speaker of the Palestinian Legislative Council',\n",
       "  'State of Palestine',\n",
       "  'Sufian Abu Zaida',\n",
       "  'Syria',\n",
       "  'Syrian occupation of Lebanon',\n",
       "  'Taxation in the State of Palestine',\n",
       "  'Television in the State of Palestine',\n",
       "  'The New York Times',\n",
       "  'The Palestine Telegraph',\n",
       "  'Third Qurei Government',\n",
       "  'Third Way (Palestinian political party)',\n",
       "  'Timeline of the Israeli–Palestinian conflict',\n",
       "  'Tourism in the State of Palestine',\n",
       "  'Transport in the State of Palestine',\n",
       "  'Tunis',\n",
       "  'Two-state solution',\n",
       "  'Umbrella organization',\n",
       "  'Unicameralism',\n",
       "  'Unified National Leadership of the Uprising',\n",
       "  'United Nations',\n",
       "  'United Nations General Assembly',\n",
       "  'United Nations General Assembly observers',\n",
       "  'United Nations General Assembly resolution 67/19',\n",
       "  'United Nations Information System on the Question of Palestine',\n",
       "  'United Nations Partition Plan for Palestine',\n",
       "  'United Nations Regional Groups',\n",
       "  'United Nations Security Council',\n",
       "  'United Nations Security Council Resolution 242',\n",
       "  'United Nations Security Council Resolution 338',\n",
       "  'United Nations Security Council resolution',\n",
       "  'United States',\n",
       "  'United States security assistance to the Palestinian National Authority',\n",
       "  'VIAF (identifier)',\n",
       "  'Venice Declaration',\n",
       "  'Visa policy of Palestine',\n",
       "  'Visa requirements for Palestinian citizens',\n",
       "  'Vladimir Bukovsky',\n",
       "  'Wafa',\n",
       "  'War of Attrition',\n",
       "  'Wars of national liberation',\n",
       "  'Water supply and sanitation in the State of Palestine',\n",
       "  'Wayback Machine',\n",
       "  'West Bank',\n",
       "  'Wikisource',\n",
       "  'Yahya Hammuda',\n",
       "  'Yasser Arafat',\n",
       "  'Yitzhak Rabin',\n",
       "  'Yom Kippur War',\n",
       "  'Zionism',\n",
       "  'Zionist entity'],\n",
       " 'modified': {'page': '2021-11-23T16:20:56Z'},\n",
       " 'wikibase': 'Q26683',\n",
       " 'wikidata_url': 'https://www.wikidata.org/wiki/Q26683',\n",
       " 'redirects': [{'pageid': 24299, 'ns': 0, 'title': 'PLO'},\n",
       "  {'pageid': 168604, 'ns': 0, 'title': 'Palestinian Liberation Organization'},\n",
       "  {'pageid': 555848, 'ns': 0, 'title': 'Palestine Liberation'},\n",
       "  {'pageid': 596080, 'ns': 0, 'title': 'Palestine Liberation Organisation'},\n",
       "  {'pageid': 849095, 'ns': 0, 'title': 'Palestinian Liberation Organisation'},\n",
       "  {'pageid': 3483386, 'ns': 0, 'title': 'P.L.O.'},\n",
       "  {'pageid': 8414120, 'ns': 0, 'title': 'Ten point plan'},\n",
       "  {'pageid': 20950427,\n",
       "   'ns': 0,\n",
       "   'title': 'The Palestine Liberation Organization'},\n",
       "  {'pageid': 21302263, 'ns': 0, 'title': 'منطقة الكبير الإسلامية'},\n",
       "  {'pageid': 24301525, 'ns': 0, 'title': 'منظمة التحرير الفلسطينية'},\n",
       "  {'pageid': 24301550,\n",
       "   'ns': 0,\n",
       "   'title': 'Munaẓẓamat al-Taḥrīr al-Filasṭīniyyat'},\n",
       "  {'pageid': 27301422,\n",
       "   'ns': 0,\n",
       "   'title': 'Palistinian Liberation Organization'},\n",
       "  {'pageid': 38282629,\n",
       "   'ns': 0,\n",
       "   'title': 'Politics of the Palestine Liberation Organization'},\n",
       "  {'pageid': 39303514,\n",
       "   'ns': 0,\n",
       "   'title': 'List of political parties in the Palestine Liberation Organization'},\n",
       "  {'pageid': 57448840,\n",
       "   'ns': 0,\n",
       "   'title': 'Ideology of the Palestine Liberation Organization'},\n",
       "  {'pageid': 57448846,\n",
       "   'ns': 0,\n",
       "   'title': 'Ideology of the Palestinian Liberation Organization'},\n",
       "  {'pageid': 63989328,\n",
       "   'ns': 0,\n",
       "   'title': 'The Palestine Liberation Organisation'},\n",
       "  {'pageid': 64623623,\n",
       "   'ns': 0,\n",
       "   'title': 'Colonization and Wall Resistance Commission (Palestine)'},\n",
       "  {'pageid': 65885982,\n",
       "   'ns': 118,\n",
       "   'title': 'Draft:Colonization and Wall Resistance Commission (Palestine)'}],\n",
       " 'description': 'organization with the purpose of creating an independent State of Palestine',\n",
       " 'label': 'Palestine Liberation Organization',\n",
       " 'title': 'Palestine Liberation Organization',\n",
       " 'watchers': 338,\n",
       " 'image': [{'kind': 'query-pageimage',\n",
       "   'file': 'File:Coat of arms of Palestine (alternative).svg',\n",
       "   'orig': 'Coat_of_arms_of_Palestine_(alternative).svg',\n",
       "   'timestamp': '2021-05-11T04:46:04Z',\n",
       "   'size': 17510,\n",
       "   'width': 443,\n",
       "   'height': 602,\n",
       "   'url': 'https://upload.wikimedia.org/wikipedia/commons/5/5d/Coat_of_arms_of_Palestine_%28alternative%29.svg',\n",
       "   'descriptionurl': 'https://commons.wikimedia.org/wiki/File:Coat_of_arms_of_Palestine_(alternative).svg',\n",
       "   'descriptionshorturl': 'https://commons.wikimedia.org/w/index.php?curid=1737438',\n",
       "   'title': 'File:Coat of arms of Palestine (alternative).svg',\n",
       "   'metadata': {'DateTime': {'value': '2021-05-11 04:46:04',\n",
       "     'source': 'mediawiki-metadata',\n",
       "     'hidden': ''},\n",
       "    'ObjectName': {'value': 'Coat of arms of Palestine (alternative)',\n",
       "     'source': 'mediawiki-metadata',\n",
       "     'hidden': ''},\n",
       "    'CommonsMetadataExtension': {'value': 1.2,\n",
       "     'source': 'extension',\n",
       "     'hidden': ''},\n",
       "    'Categories': {'value': 'Arabic-language seals|Coats of arms of the Palestinian National Authority|Eagle of Saladin|Files with derivative versions|PD-self|SVG coats of arms of Palestine|Self-published work|With insignia',\n",
       "     'source': 'commons-categories',\n",
       "     'hidden': ''},\n",
       "    'Assessments': {'value': '', 'source': 'commons-categories', 'hidden': ''},\n",
       "    'ImageDescription': {'value': 'Coat of arms of Palestine -- standard pan-Arab \"Eagle of Saladin\" with shield of the flag, and holding a scroll with the word <i>filastin</i> فلسطين (Palestine).',\n",
       "     'source': 'commons-desc-page'},\n",
       "    'DateTimeOriginal': {'value': '3 March 2007',\n",
       "     'source': 'commons-desc-page'},\n",
       "    'Credit': {'value': '<a rel=\"nofollow\" class=\"external autonumber\" href=\"http://www.flaggenlexikon.de/fpalaest.htm#Wappen\">[1]</a>',\n",
       "     'source': 'commons-desc-page',\n",
       "     'hidden': ''},\n",
       "    'Artist': {'value': 'myself, based on national symbol, with the help of <a href=\"//commons.wikimedia.org/wiki/User:Jyon\" title=\"User:Jyon\">User:Jyon</a>; text by AnonMoos.',\n",
       "     'source': 'commons-desc-page'},\n",
       "    'Permission': {'value': 'public',\n",
       "     'source': 'commons-desc-page',\n",
       "     'hidden': ''},\n",
       "    'LicenseShortName': {'value': 'Public domain',\n",
       "     'source': 'commons-desc-page',\n",
       "     'hidden': ''},\n",
       "    'UsageTerms': {'value': 'Public domain',\n",
       "     'source': 'commons-desc-page',\n",
       "     'hidden': ''},\n",
       "    'AttributionRequired': {'value': 'false',\n",
       "     'source': 'commons-desc-page',\n",
       "     'hidden': ''},\n",
       "    'Copyrighted': {'value': 'False',\n",
       "     'source': 'commons-desc-page',\n",
       "     'hidden': ''},\n",
       "    'Restrictions': {'value': 'insignia',\n",
       "     'source': 'commons-desc-page',\n",
       "     'hidden': ''},\n",
       "    'License': {'value': 'pd', 'source': 'commons-templates', 'hidden': ''}}},\n",
       "  {'kind': 'query-thumbnail',\n",
       "   'width': 176,\n",
       "   'height': 240,\n",
       "   'url': 'https://upload.wikimedia.org/wikipedia/commons/thumb/5/5d/Coat_of_arms_of_Palestine_%28alternative%29.svg/176px-Coat_of_arms_of_Palestine_%28alternative%29.svg.png',\n",
       "   'file': 'File:Coat of arms of Palestine %28alternative%29.svg',\n",
       "   'orig': 'Coat_of_arms_of_Palestine_%28alternative%29.svg'}]}"
      ]
     },
     "execution_count": 13,
     "metadata": {},
     "output_type": "execute_result"
    }
   ],
   "source": [
    "page.data"
   ]
  },
  {
   "cell_type": "code",
   "execution_count": 14,
   "id": "adbfd99c",
   "metadata": {},
   "outputs": [],
   "source": [
    "page = wptools.page('Fela Kuti')"
   ]
  },
  {
   "cell_type": "code",
   "execution_count": 16,
   "id": "4805d264",
   "metadata": {},
   "outputs": [
    {
     "name": "stderr",
     "output_type": "stream",
     "text": [
      "+ parse results in cache\n"
     ]
    },
    {
     "data": {
      "text/plain": [
       "<wptools.page.WPToolsPage at 0x21ef305c040>"
      ]
     },
     "execution_count": 16,
     "metadata": {},
     "output_type": "execute_result"
    }
   ],
   "source": [
    "page.get_parse()"
   ]
  },
  {
   "cell_type": "code",
   "execution_count": 17,
   "id": "fc02ad7e",
   "metadata": {},
   "outputs": [
    {
     "data": {
      "text/plain": [
       "{'name': 'Fela Kuti',\n",
       " 'background': 'solo_singer',\n",
       " 'image': 'Fela Kuti (cropped).jpg',\n",
       " 'caption': 'Kuti in 1970',\n",
       " 'birth_name': 'Olufela Olusegun Oludotun Ransome-Kuti',\n",
       " 'alias': 'Fela Anikulapo Kuti <br>\\nAbami Eda',\n",
       " 'birth_date': '{{birth date|df|=|yes|1938|10|15}}',\n",
       " 'birth_place': '[[Abeokuta]], [[Western Nigeria|Western Region]], [[British Nigeria]]<br/><small>(now [[Abeokuta]], [[Ogun State]], Nigeria)</small>',\n",
       " 'death_date': '{{death date and age|df|=|yes|1997|8|2|1938|10|15}}',\n",
       " 'death_place': '[[Lagos]], [[Lagos State]], [[Nigeria]]',\n",
       " 'genre': '{{flatlist|\\n*[[Afrobeat]]\\n*[[highlife]]}}',\n",
       " 'occupation': '{{flatlist|\\n*Singer-songwriter\\n*musician\\n*activist}}',\n",
       " 'instrument': '{{flatlist|\\n*[[Saxophone]]\\n*vocals\\n*keyboards\\n* trumpet\\n*[[guitar]]\\n*drums}}',\n",
       " 'years_active': '1958–1997',\n",
       " 'label': '{{flatlist|\\n*[[Barclay Records|Barclay]]/[[PolyGram Records|PolyGram]]\\n*[[MCA Records|MCA]]/[[Universal Music Group|Universal]]\\n*[[Celluloid Records|Celluloid]]\\n*[[EMI|EMI Nigeria]]\\n*[[Victor Entertainment|JVC]]\\n*[[Wrasse Records|Wrasse]]\\n*[[Shanachie Records|Shanachie]]\\n*[[Knitting Factory Records|Knitting Factory]]}}',\n",
       " 'associated_acts': \"{{flatlist|\\n*Africa&nbsp;'70&nbsp;/ Afrika&nbsp;'70\\n*Egypt&nbsp;'80\\n*Koola Lobitos\\n*Nigeria&nbsp;'70\\n*[[Hugh Masekela]]\\n*[[Ginger Baker]]\\n*[[Tony Allen (musician)|Tony Allen]]\\n*[[Femi Kuti]]\\n*[[Seun Kuti]]\\n*[[Roy Ayers]]\\n*[[Lester Bowie]]}}\",\n",
       " 'website': '{{url|http://felakuti.com/}}'}"
      ]
     },
     "execution_count": 17,
     "metadata": {},
     "output_type": "execute_result"
    }
   ],
   "source": [
    "page.data['infobox']"
   ]
  },
  {
   "cell_type": "code",
   "execution_count": null,
   "id": "482bf8fb",
   "metadata": {},
   "outputs": [],
   "source": []
  }
 ],
 "metadata": {
  "kernelspec": {
   "display_name": "Python 3",
   "language": "python",
   "name": "python3"
  },
  "language_info": {
   "codemirror_mode": {
    "name": "ipython",
    "version": 3
   },
   "file_extension": ".py",
   "mimetype": "text/x-python",
   "name": "python",
   "nbconvert_exporter": "python",
   "pygments_lexer": "ipython3",
   "version": "3.8.8"
  }
 },
 "nbformat": 4,
 "nbformat_minor": 5
}
